{
 "cells": [
  {
   "cell_type": "code",
   "execution_count": 6,
   "id": "59bf4b1e",
   "metadata": {},
   "outputs": [],
   "source": [
    "from google.cloud import storage\n",
    "import os\n",
    "from datetime import date, timedelta\n",
    "import datetime as dt\n",
    "import pandas as pd\n",
    "from alpaca_trade_api.rest import REST, TimeFrame\n",
    "\n",
    "API_KEY = 'PKWZQ9TTQYG9H00RUGS0'\n",
    "SECRET_KEY = '7C45wJDOuh5drGCarAa9JIKviKSeicitFYIZTpXQ'\n",
    "\n",
    "os.environ['GOOGLE_APPLICATION_CREDENTIALS'] = 'servicekey_googlecloud.json'"
   ]
  },
  {
   "cell_type": "code",
   "execution_count": 7,
   "id": "a4b1add1",
   "metadata": {},
   "outputs": [],
   "source": [
    "def upload_to_bucket(bucket_name = 'alpaca-data', exchange = \"IEX\", symbol = \"SPY\", date_run = \"2022-01-04\"):\n",
    "    bucket = storage.Client().bucket(bucket_name)\n",
    "#     yesterday = dt.datetime.now(dt.timezone.utc) - dt.timedelta(days=1)\n",
    "\n",
    "#     date_run = yesterday\n",
    "\n",
    "    base_dst = \"datatype=exchange={exchange}/symbol={symbol}/year={year}/month={month}/day={day}/{name}.csv\"\n",
    "    \n",
    "    date_run = dt.datetime.strptime(f\"{date_run}\", \"%Y-%m-%d\")\n",
    "    \n",
    "    dst = base_dst.format(\n",
    "    date = date_run,\n",
    "    exchange = exchange,\n",
    "    symbol = symbol,\n",
    "    year= date_run.year,\n",
    "    month=date_run.month,\n",
    "    day=date_run.day,\n",
    "    name=f\"{symbol}_{dt.datetime.strftime(date_run,'%Y-%m-%d')}\")\n",
    "    \n",
    "    local_path = './snp_data.csv'\n",
    "    blob = bucket.blob(dst)\n",
    "    blob.upload_from_filename(local_path)\n",
    "    print(\"Name of the bucket: \" + bucket)\n",
    "    os.remove(\"snp_data.csv\")\n",
    "    print(\"File removed locally\")"
   ]
  },
  {
   "cell_type": "code",
   "execution_count": 8,
   "id": "3a6e0b95",
   "metadata": {},
   "outputs": [],
   "source": [
    "def get_date_market_data(API_KEY, SECRET_KEY, market=\"SPY\", timeframe=TimeFrame.Minute, extended_hours=False, exchange=\"IEX\", write=True, date_run=\"2022-01-04\"):\n",
    "\n",
    "    #dt_string = dt.datetime.strptime(f\"{date_run}T00:00:00+00:00\", \"%Y-%m-%dT%H:%M:%S%z\")\n",
    "    dt_string = date_run\n",
    "    path=\"./snp_data.csv\"\n",
    "    #path = \"./%s.snp.csv\"%date_run\n",
    "    #yesterday = dt.datetime.now(dt.timezone.utc) - dt.timedelta(days=1)\n",
    "\n",
    "    date_market_open = date_run\n",
    "    date_market_close = date_run\n",
    "\n",
    "    alpaca_rest_client = REST(API_KEY, SECRET_KEY)\n",
    "\n",
    "    data = alpaca_rest_client.get_bars(market, TimeFrame.Minute, date_market_open, date_market_close).df    \n",
    "\n",
    "    data.to_csv(path)\n",
    "    upload_to_bucket()\n",
    "\n",
    "    return print(\"Downloading data for: \"+ date_run)\n"
   ]
  },
  {
   "cell_type": "code",
   "execution_count": 9,
   "id": "86e66071",
   "metadata": {},
   "outputs": [],
   "source": [
    "def backfill_date(date_run = '2022-02-15'):\n",
    "    #date_run = '2022-02-15'\n",
    "    start_date = dt.datetime.strptime(date_run, \"%Y-%m-%d\")\n",
    "    end_date = dt.datetime.today() - timedelta(days = 1)\n",
    "    day_count = (end_date - start_date).days + 1\n",
    "    \n",
    "    for single_date in (start_date + timedelta(n) for n in range(day_count)):\n",
    "        single_date = dt.datetime.strftime(single_date, \"%Y-%m-%d\")\n",
    "        get_date_market_data(API_KEY, SECRET_KEY, write=True, date_run=single_date)\n",
    "    \n",
    "    return print(\"Backfill for SPY complete from \" + date_run + \" to \" + dt.datetime.strftime(end_date, \"%Y-%m-%d\"))\n"
   ]
  },
  {
   "cell_type": "code",
   "execution_count": 10,
   "id": "9ffa7502",
   "metadata": {},
   "outputs": [
    {
     "ename": "TypeError",
     "evalue": "can only concatenate str (not \"Bucket\") to str",
     "output_type": "error",
     "traceback": [
      "\u001b[0;31m---------------------------------------------------------------------------\u001b[0m",
      "\u001b[0;31mTypeError\u001b[0m                                 Traceback (most recent call last)",
      "Input \u001b[0;32mIn [10]\u001b[0m, in \u001b[0;36m<module>\u001b[0;34m\u001b[0m\n\u001b[0;32m----> 1\u001b[0m \u001b[43mbackfill_date\u001b[49m\u001b[43m(\u001b[49m\u001b[43mdate_run\u001b[49m\u001b[43m \u001b[49m\u001b[38;5;241;43m=\u001b[39;49m\u001b[43m \u001b[49m\u001b[38;5;124;43m'\u001b[39;49m\u001b[38;5;124;43m2022-02-15\u001b[39;49m\u001b[38;5;124;43m'\u001b[39;49m\u001b[43m)\u001b[49m\n",
      "Input \u001b[0;32mIn [9]\u001b[0m, in \u001b[0;36mbackfill_date\u001b[0;34m(date_run)\u001b[0m\n\u001b[1;32m      7\u001b[0m \u001b[38;5;28;01mfor\u001b[39;00m single_date \u001b[38;5;129;01min\u001b[39;00m (start_date \u001b[38;5;241m+\u001b[39m timedelta(n) \u001b[38;5;28;01mfor\u001b[39;00m n \u001b[38;5;129;01min\u001b[39;00m \u001b[38;5;28mrange\u001b[39m(day_count)):\n\u001b[1;32m      8\u001b[0m     single_date \u001b[38;5;241m=\u001b[39m dt\u001b[38;5;241m.\u001b[39mdatetime\u001b[38;5;241m.\u001b[39mstrftime(single_date, \u001b[38;5;124m\"\u001b[39m\u001b[38;5;124m%\u001b[39m\u001b[38;5;124mY-\u001b[39m\u001b[38;5;124m%\u001b[39m\u001b[38;5;124mm-\u001b[39m\u001b[38;5;132;01m%d\u001b[39;00m\u001b[38;5;124m\"\u001b[39m)\n\u001b[0;32m----> 9\u001b[0m     \u001b[43mget_date_market_data\u001b[49m\u001b[43m(\u001b[49m\u001b[43mAPI_KEY\u001b[49m\u001b[43m,\u001b[49m\u001b[43m \u001b[49m\u001b[43mSECRET_KEY\u001b[49m\u001b[43m,\u001b[49m\u001b[43m \u001b[49m\u001b[43mwrite\u001b[49m\u001b[38;5;241;43m=\u001b[39;49m\u001b[38;5;28;43;01mTrue\u001b[39;49;00m\u001b[43m,\u001b[49m\u001b[43m \u001b[49m\u001b[43mdate_run\u001b[49m\u001b[38;5;241;43m=\u001b[39;49m\u001b[43msingle_date\u001b[49m\u001b[43m)\u001b[49m\n\u001b[1;32m     11\u001b[0m \u001b[38;5;28;01mreturn\u001b[39;00m \u001b[38;5;28mprint\u001b[39m(\u001b[38;5;124m\"\u001b[39m\u001b[38;5;124mBackfill for SPY complete from \u001b[39m\u001b[38;5;124m\"\u001b[39m \u001b[38;5;241m+\u001b[39m date_run \u001b[38;5;241m+\u001b[39m \u001b[38;5;124m\"\u001b[39m\u001b[38;5;124m to \u001b[39m\u001b[38;5;124m\"\u001b[39m \u001b[38;5;241m+\u001b[39m dt\u001b[38;5;241m.\u001b[39mdatetime\u001b[38;5;241m.\u001b[39mstrftime(end_date, \u001b[38;5;124m\"\u001b[39m\u001b[38;5;124m%\u001b[39m\u001b[38;5;124mY-\u001b[39m\u001b[38;5;124m%\u001b[39m\u001b[38;5;124mm-\u001b[39m\u001b[38;5;132;01m%d\u001b[39;00m\u001b[38;5;124m\"\u001b[39m))\n",
      "Input \u001b[0;32mIn [8]\u001b[0m, in \u001b[0;36mget_date_market_data\u001b[0;34m(API_KEY, SECRET_KEY, market, timeframe, extended_hours, exchange, write, date_run)\u001b[0m\n\u001b[1;32m     14\u001b[0m data \u001b[38;5;241m=\u001b[39m alpaca_rest_client\u001b[38;5;241m.\u001b[39mget_bars(market, TimeFrame\u001b[38;5;241m.\u001b[39mMinute, date_market_open, date_market_close)\u001b[38;5;241m.\u001b[39mdf    \n\u001b[1;32m     16\u001b[0m data\u001b[38;5;241m.\u001b[39mto_csv(path)\n\u001b[0;32m---> 17\u001b[0m \u001b[43mupload_to_bucket\u001b[49m\u001b[43m(\u001b[49m\u001b[43m)\u001b[49m\n\u001b[1;32m     19\u001b[0m \u001b[38;5;28;01mreturn\u001b[39;00m \u001b[38;5;28mprint\u001b[39m(\u001b[38;5;124m\"\u001b[39m\u001b[38;5;124mDownloading data for: \u001b[39m\u001b[38;5;124m\"\u001b[39m\u001b[38;5;241m+\u001b[39m date_run)\n",
      "Input \u001b[0;32mIn [7]\u001b[0m, in \u001b[0;36mupload_to_bucket\u001b[0;34m(bucket_name, exchange, symbol, date_run)\u001b[0m\n\u001b[1;32m     21\u001b[0m blob \u001b[38;5;241m=\u001b[39m bucket\u001b[38;5;241m.\u001b[39mblob(dst)\n\u001b[1;32m     22\u001b[0m blob\u001b[38;5;241m.\u001b[39mupload_from_filename(local_path)\n\u001b[0;32m---> 23\u001b[0m \u001b[38;5;28mprint\u001b[39m(\u001b[38;5;124;43m\"\u001b[39;49m\u001b[38;5;124;43mName of the bucket: \u001b[39;49m\u001b[38;5;124;43m\"\u001b[39;49m\u001b[43m \u001b[49m\u001b[38;5;241;43m+\u001b[39;49m\u001b[43m \u001b[49m\u001b[43mbucket\u001b[49m)\n\u001b[1;32m     24\u001b[0m os\u001b[38;5;241m.\u001b[39mremove(\u001b[38;5;124m\"\u001b[39m\u001b[38;5;124msnp_data.csv\u001b[39m\u001b[38;5;124m\"\u001b[39m)\n\u001b[1;32m     25\u001b[0m \u001b[38;5;28mprint\u001b[39m(\u001b[38;5;124m\"\u001b[39m\u001b[38;5;124mFile removed locally\u001b[39m\u001b[38;5;124m\"\u001b[39m)\n",
      "\u001b[0;31mTypeError\u001b[0m: can only concatenate str (not \"Bucket\") to str"
     ]
    }
   ],
   "source": [
    "backfill_date(date_run = '2022-02-15')"
   ]
  },
  {
   "cell_type": "code",
   "execution_count": null,
   "id": "0f04a2fa",
   "metadata": {},
   "outputs": [],
   "source": []
  }
 ],
 "metadata": {
  "kernelspec": {
   "display_name": "Python 3.8.9 64-bit",
   "language": "python",
   "name": "python389jvsc74a57bd031f2aee4e71d21fbe5cf8b01ff0e069b9275f58929596ceb00d14d90e3e16cd6"
  },
  "language_info": {
   "codemirror_mode": {
    "name": "ipython",
    "version": 3
   },
   "file_extension": ".py",
   "mimetype": "text/x-python",
   "name": "python",
   "nbconvert_exporter": "python",
   "pygments_lexer": "ipython3",
   "version": "3.8.9"
  }
 },
 "nbformat": 4,
 "nbformat_minor": 5
}
